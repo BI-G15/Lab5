{
 "cells": [
  {
   "cell_type": "markdown",
   "id": "467355fe-d139-4769-98f1-bad4c61e3180",
   "metadata": {},
   "source": [
    "# Lab 5"
   ]
  },
  {
   "cell_type": "markdown",
   "id": "d775c188-922d-4b65-8110-3b818e998b56",
   "metadata": {},
   "source": [
    "Integrantes:\n",
    "\n",
    "*Jessica Robles*\n",
    "\n",
    "*Maria Paula Gonzalez*\n",
    "\n",
    "*Juan Esteban Vergara*"
   ]
  },
  {
   "cell_type": "markdown",
   "id": "69aa8164-30bb-41da-8ca0-b94975386b68",
   "metadata": {},
   "source": [
    "## 1. Importar librerias"
   ]
  },
  {
   "cell_type": "code",
   "execution_count": 1,
   "id": "b19bbede-2aad-4661-8298-10a48142c728",
   "metadata": {},
   "outputs": [],
   "source": [
    "seed = 161\n",
    "import pandas as pd\n",
    "import numpy as np\n",
    "import matplotlib.pyplot as plt\n",
    "import seaborn as sns\n",
    "import json\n",
    "\n",
    "# Composicion de pipelines\n",
    "from sklearn.compose import ColumnTransformer\n",
    "from sklearn.pipeline import Pipeline\n",
    "from sklearn.impute import SimpleImputer\n",
    "from sklearn.preprocessing import PolynomialFeatures\n",
    "from sklearn.preprocessing import MinMaxScaler\n",
    "from sklearn.preprocessing import StandardScaler\n",
    "\n",
    "# Regresion lineal\n",
    "from sklearn.linear_model import LinearRegression\n",
    "\n",
    "# Importar/ Exportar modelos\n",
    "from joblib import dump, load\n",
    "\n",
    "# Metricas\n",
    "from sklearn.metrics import mean_squared_error as mse\n",
    "\n",
    "# q-q plots\n",
    "import scipy.stats as stats"
   ]
  },
  {
   "cell_type": "markdown",
   "id": "70a60d27-d576-4187-87a6-2f0f16c7ff70",
   "metadata": {},
   "source": [
    "## 2. Carga de datos"
   ]
  },
  {
   "cell_type": "code",
   "execution_count": 2,
   "id": "d2d180af-0cf1-47a5-94f7-ca0efef4fbc9",
   "metadata": {},
   "outputs": [
    {
     "name": "stdout",
     "output_type": "stream",
     "text": [
      "(1000, 14)\n"
     ]
    },
    {
     "data": {
      "text/html": [
       "<div>\n",
       "<style scoped>\n",
       "    .dataframe tbody tr th:only-of-type {\n",
       "        vertical-align: middle;\n",
       "    }\n",
       "\n",
       "    .dataframe tbody tr th {\n",
       "        vertical-align: top;\n",
       "    }\n",
       "\n",
       "    .dataframe thead th {\n",
       "        text-align: right;\n",
       "    }\n",
       "</style>\n",
       "<table border=\"1\" class=\"dataframe\">\n",
       "  <thead>\n",
       "    <tr style=\"text-align: right;\">\n",
       "      <th></th>\n",
       "      <th>city_key</th>\n",
       "      <th>customer_key</th>\n",
       "      <th>stock_item_key</th>\n",
       "      <th>order_date_key</th>\n",
       "      <th>picked_date_key</th>\n",
       "      <th>salesperson_key</th>\n",
       "      <th>picker_key</th>\n",
       "      <th>package</th>\n",
       "      <th>quantity</th>\n",
       "      <th>unit_price</th>\n",
       "      <th>tax_rate</th>\n",
       "      <th>total_excluding_tax</th>\n",
       "      <th>tax_amount</th>\n",
       "      <th>total_including_tax</th>\n",
       "    </tr>\n",
       "    <tr>\n",
       "      <th>order_key</th>\n",
       "      <th></th>\n",
       "      <th></th>\n",
       "      <th></th>\n",
       "      <th></th>\n",
       "      <th></th>\n",
       "      <th></th>\n",
       "      <th></th>\n",
       "      <th></th>\n",
       "      <th></th>\n",
       "      <th></th>\n",
       "      <th></th>\n",
       "      <th></th>\n",
       "      <th></th>\n",
       "      <th></th>\n",
       "    </tr>\n",
       "  </thead>\n",
       "  <tbody>\n",
       "    <tr>\n",
       "      <th>1</th>\n",
       "      <td>91</td>\n",
       "      <td>179</td>\n",
       "      <td>533</td>\n",
       "      <td>2014-02-05</td>\n",
       "      <td>2013-03-17</td>\n",
       "      <td>135</td>\n",
       "      <td>122</td>\n",
       "      <td>S</td>\n",
       "      <td>805</td>\n",
       "      <td>237.77</td>\n",
       "      <td>61</td>\n",
       "      <td>2245.39</td>\n",
       "      <td>305.40</td>\n",
       "      <td>7529.12</td>\n",
       "    </tr>\n",
       "    <tr>\n",
       "      <th>2</th>\n",
       "      <td>83</td>\n",
       "      <td>2</td>\n",
       "      <td>631</td>\n",
       "      <td>2015-11-17</td>\n",
       "      <td>2013-07-19</td>\n",
       "      <td>2</td>\n",
       "      <td>133</td>\n",
       "      <td>S</td>\n",
       "      <td>76</td>\n",
       "      <td>721.71</td>\n",
       "      <td>59</td>\n",
       "      <td>6585.70</td>\n",
       "      <td>135.12</td>\n",
       "      <td>8442.06</td>\n",
       "    </tr>\n",
       "    <tr>\n",
       "      <th>3</th>\n",
       "      <td>47</td>\n",
       "      <td>390</td>\n",
       "      <td>174</td>\n",
       "      <td>2015-04-29</td>\n",
       "      <td>2015-11-03</td>\n",
       "      <td>128</td>\n",
       "      <td>75</td>\n",
       "      <td>S</td>\n",
       "      <td>585</td>\n",
       "      <td>2866.71</td>\n",
       "      <td>9</td>\n",
       "      <td>8113.37</td>\n",
       "      <td>792.11</td>\n",
       "      <td>9934.49</td>\n",
       "    </tr>\n",
       "    <tr>\n",
       "      <th>4</th>\n",
       "      <td>8</td>\n",
       "      <td>218</td>\n",
       "      <td>157</td>\n",
       "      <td>2015-04-04</td>\n",
       "      <td>2014-12-03</td>\n",
       "      <td>84</td>\n",
       "      <td>191</td>\n",
       "      <td>S</td>\n",
       "      <td>878</td>\n",
       "      <td>4671.07</td>\n",
       "      <td>39</td>\n",
       "      <td>9109.56</td>\n",
       "      <td>668.65</td>\n",
       "      <td>6166.09</td>\n",
       "    </tr>\n",
       "    <tr>\n",
       "      <th>5</th>\n",
       "      <td>94</td>\n",
       "      <td>167</td>\n",
       "      <td>235</td>\n",
       "      <td>2015-01-26</td>\n",
       "      <td>2015-01-11</td>\n",
       "      <td>91</td>\n",
       "      <td>197</td>\n",
       "      <td>S</td>\n",
       "      <td>583</td>\n",
       "      <td>1950.68</td>\n",
       "      <td>24</td>\n",
       "      <td>9277.41</td>\n",
       "      <td>66.55</td>\n",
       "      <td>3885.52</td>\n",
       "    </tr>\n",
       "  </tbody>\n",
       "</table>\n",
       "</div>"
      ],
      "text/plain": [
       "           city_key  customer_key  stock_item_key order_date_key  \\\n",
       "order_key                                                          \n",
       "1                91           179             533     2014-02-05   \n",
       "2                83             2             631     2015-11-17   \n",
       "3                47           390             174     2015-04-29   \n",
       "4                 8           218             157     2015-04-04   \n",
       "5                94           167             235     2015-01-26   \n",
       "\n",
       "          picked_date_key  salesperson_key  picker_key package  quantity  \\\n",
       "order_key                                                                  \n",
       "1              2013-03-17              135         122       S       805   \n",
       "2              2013-07-19                2         133       S        76   \n",
       "3              2015-11-03              128          75       S       585   \n",
       "4              2014-12-03               84         191       S       878   \n",
       "5              2015-01-11               91         197       S       583   \n",
       "\n",
       "           unit_price  tax_rate  total_excluding_tax  tax_amount  \\\n",
       "order_key                                                          \n",
       "1              237.77        61              2245.39      305.40   \n",
       "2              721.71        59              6585.70      135.12   \n",
       "3             2866.71         9              8113.37      792.11   \n",
       "4             4671.07        39              9109.56      668.65   \n",
       "5             1950.68        24              9277.41       66.55   \n",
       "\n",
       "           total_including_tax  \n",
       "order_key                       \n",
       "1                      7529.12  \n",
       "2                      8442.06  \n",
       "3                      9934.49  \n",
       "4                      6166.09  \n",
       "5                      3885.52  "
      ]
     },
     "execution_count": 2,
     "metadata": {},
     "output_type": "execute_result"
    }
   ],
   "source": [
    "# Se cargan los datos. \n",
    "df_factD = pd.read_csv('fact_order.csv', index_col=0)\n",
    "print(df_factD.shape)\n",
    "df_factD.head(5)"
   ]
  },
  {
   "cell_type": "code",
   "execution_count": 3,
   "id": "7b197aa5-c539-4ba0-93ff-3efabb9c0b47",
   "metadata": {},
   "outputs": [
    {
     "name": "stdout",
     "output_type": "stream",
     "text": [
      "(98, 9)\n"
     ]
    },
    {
     "data": {
      "text/html": [
       "<div>\n",
       "<style scoped>\n",
       "    .dataframe tbody tr th:only-of-type {\n",
       "        vertical-align: middle;\n",
       "    }\n",
       "\n",
       "    .dataframe tbody tr th {\n",
       "        vertical-align: top;\n",
       "    }\n",
       "\n",
       "    .dataframe thead th {\n",
       "        text-align: right;\n",
       "    }\n",
       "</style>\n",
       "<table border=\"1\" class=\"dataframe\">\n",
       "  <thead>\n",
       "    <tr style=\"text-align: right;\">\n",
       "      <th></th>\n",
       "      <th>City_Key</th>\n",
       "      <th>City</th>\n",
       "      <th>State_Province</th>\n",
       "      <th>Country</th>\n",
       "      <th>Continent</th>\n",
       "      <th>Sales_Territory</th>\n",
       "      <th>Region</th>\n",
       "      <th>Subregion</th>\n",
       "      <th>Latest_Recorded_Population</th>\n",
       "    </tr>\n",
       "    <tr>\n",
       "      <th>row ID</th>\n",
       "      <th></th>\n",
       "      <th></th>\n",
       "      <th></th>\n",
       "      <th></th>\n",
       "      <th></th>\n",
       "      <th></th>\n",
       "      <th></th>\n",
       "      <th></th>\n",
       "      <th></th>\n",
       "    </tr>\n",
       "  </thead>\n",
       "  <tbody>\n",
       "    <tr>\n",
       "      <th>Row0</th>\n",
       "      <td>0</td>\n",
       "      <td>Unknown</td>\n",
       "      <td>NaN</td>\n",
       "      <td>NaN</td>\n",
       "      <td>NaN</td>\n",
       "      <td>NaN</td>\n",
       "      <td>NaN</td>\n",
       "      <td>NaN</td>\n",
       "      <td>0</td>\n",
       "    </tr>\n",
       "    <tr>\n",
       "      <th>Row1</th>\n",
       "      <td>1</td>\n",
       "      <td>Carrollton</td>\n",
       "      <td>New York</td>\n",
       "      <td>United States</td>\n",
       "      <td>North America</td>\n",
       "      <td>Mideast</td>\n",
       "      <td>Americas</td>\n",
       "      <td>Northern America</td>\n",
       "      <td>0</td>\n",
       "    </tr>\n",
       "    <tr>\n",
       "      <th>Row2</th>\n",
       "      <td>2</td>\n",
       "      <td>Carrollton</td>\n",
       "      <td>Virginia</td>\n",
       "      <td>United States</td>\n",
       "      <td>North America</td>\n",
       "      <td>Southeast</td>\n",
       "      <td>Americas</td>\n",
       "      <td>Northern America</td>\n",
       "      <td>4574</td>\n",
       "    </tr>\n",
       "    <tr>\n",
       "      <th>Row3</th>\n",
       "      <td>3</td>\n",
       "      <td>Carrollton</td>\n",
       "      <td>Illinois</td>\n",
       "      <td>United States</td>\n",
       "      <td>North America</td>\n",
       "      <td>Great Lakes</td>\n",
       "      <td>Americas</td>\n",
       "      <td>Northern America</td>\n",
       "      <td>2484</td>\n",
       "    </tr>\n",
       "    <tr>\n",
       "      <th>Row4</th>\n",
       "      <td>4</td>\n",
       "      <td>Carrollton</td>\n",
       "      <td>Missouri</td>\n",
       "      <td>United States</td>\n",
       "      <td>North America</td>\n",
       "      <td>Plains</td>\n",
       "      <td>Americas</td>\n",
       "      <td>Northern America</td>\n",
       "      <td>3784</td>\n",
       "    </tr>\n",
       "  </tbody>\n",
       "</table>\n",
       "</div>"
      ],
      "text/plain": [
       "        City_Key        City State_Province        Country      Continent  \\\n",
       "row ID                                                                      \n",
       "Row0           0     Unknown            NaN            NaN            NaN   \n",
       "Row1           1  Carrollton       New York  United States  North America   \n",
       "Row2           2  Carrollton       Virginia  United States  North America   \n",
       "Row3           3  Carrollton       Illinois  United States  North America   \n",
       "Row4           4  Carrollton       Missouri  United States  North America   \n",
       "\n",
       "       Sales_Territory    Region         Subregion  Latest_Recorded_Population  \n",
       "row ID                                                                          \n",
       "Row0               NaN       NaN               NaN                           0  \n",
       "Row1           Mideast  Americas  Northern America                           0  \n",
       "Row2         Southeast  Americas  Northern America                        4574  \n",
       "Row3       Great Lakes  Americas  Northern America                        2484  \n",
       "Row4            Plains  Americas  Northern America                        3784  "
      ]
     },
     "execution_count": 3,
     "metadata": {},
     "output_type": "execute_result"
    }
   ],
   "source": [
    "# Se cargan los datos. \n",
    "df_cityD = pd.read_csv('dimension_city.csv', index_col=0)\n",
    "print(df_cityD.shape)\n",
    "df_cityD.head(5)"
   ]
  },
  {
   "cell_type": "code",
   "execution_count": 4,
   "id": "3203cc66-71d5-4795-82db-760e8f53804f",
   "metadata": {},
   "outputs": [
    {
     "name": "stdout",
     "output_type": "stream",
     "text": [
      "(98, 9)\n"
     ]
    },
    {
     "data": {
      "text/html": [
       "<div>\n",
       "<style scoped>\n",
       "    .dataframe tbody tr th:only-of-type {\n",
       "        vertical-align: middle;\n",
       "    }\n",
       "\n",
       "    .dataframe tbody tr th {\n",
       "        vertical-align: top;\n",
       "    }\n",
       "\n",
       "    .dataframe thead th {\n",
       "        text-align: right;\n",
       "    }\n",
       "</style>\n",
       "<table border=\"1\" class=\"dataframe\">\n",
       "  <thead>\n",
       "    <tr style=\"text-align: right;\">\n",
       "      <th></th>\n",
       "      <th>Customer</th>\n",
       "      <th>Bill_To_Customer</th>\n",
       "      <th>Category</th>\n",
       "      <th>Buying_Group</th>\n",
       "      <th>Primary_Contact</th>\n",
       "      <th>Postal_Code</th>\n",
       "    </tr>\n",
       "    <tr>\n",
       "      <th>Customer_Key</th>\n",
       "      <th></th>\n",
       "      <th></th>\n",
       "      <th></th>\n",
       "      <th></th>\n",
       "      <th></th>\n",
       "      <th></th>\n",
       "    </tr>\n",
       "  </thead>\n",
       "  <tbody>\n",
       "    <tr>\n",
       "      <th>0</th>\n",
       "      <td>Unknown</td>\n",
       "      <td>NaN</td>\n",
       "      <td>NaN</td>\n",
       "      <td>NaN</td>\n",
       "      <td>NaN</td>\n",
       "      <td>NaN</td>\n",
       "    </tr>\n",
       "    <tr>\n",
       "      <th>1</th>\n",
       "      <td>Tailspin Toys (Head Office)</td>\n",
       "      <td>Tailspin Toys (Head Office)</td>\n",
       "      <td>Novelty Shop</td>\n",
       "      <td>Tailspin Toys</td>\n",
       "      <td>Waldemar Fisar</td>\n",
       "      <td>90410.0</td>\n",
       "    </tr>\n",
       "    <tr>\n",
       "      <th>2</th>\n",
       "      <td>Tailspin Toys (Sylvanite- MT)</td>\n",
       "      <td>Tailspin Toys (Head Office)</td>\n",
       "      <td>Novelty Shop</td>\n",
       "      <td>Tailspin Toys</td>\n",
       "      <td>Lorena Cindric</td>\n",
       "      <td>90216.0</td>\n",
       "    </tr>\n",
       "    <tr>\n",
       "      <th>3</th>\n",
       "      <td>Tailspin Toys (Peeples Valley- AZ)</td>\n",
       "      <td>Tailspin Toys (Head Office)</td>\n",
       "      <td>Novelty Shop</td>\n",
       "      <td>Tailspin Toys</td>\n",
       "      <td>Bhaargav Rambhatla</td>\n",
       "      <td>90205.0</td>\n",
       "    </tr>\n",
       "    <tr>\n",
       "      <th>4</th>\n",
       "      <td>Tailspin Toys (Medicine Lodge- KS)</td>\n",
       "      <td>Tailspin Toys (Head Office)</td>\n",
       "      <td>Novelty Shop</td>\n",
       "      <td>Tailspin Toys</td>\n",
       "      <td>Daniel Roman</td>\n",
       "      <td>90152.0</td>\n",
       "    </tr>\n",
       "  </tbody>\n",
       "</table>\n",
       "</div>"
      ],
      "text/plain": [
       "                                        Customer             Bill_To_Customer  \\\n",
       "Customer_Key                                                                    \n",
       "0                                        Unknown                          NaN   \n",
       "1                    Tailspin Toys (Head Office)  Tailspin Toys (Head Office)   \n",
       "2                  Tailspin Toys (Sylvanite- MT)  Tailspin Toys (Head Office)   \n",
       "3             Tailspin Toys (Peeples Valley- AZ)  Tailspin Toys (Head Office)   \n",
       "4             Tailspin Toys (Medicine Lodge- KS)  Tailspin Toys (Head Office)   \n",
       "\n",
       "                  Category   Buying_Group     Primary_Contact  Postal_Code  \n",
       "Customer_Key                                                                \n",
       "0                      NaN            NaN                 NaN          NaN  \n",
       "1             Novelty Shop  Tailspin Toys      Waldemar Fisar      90410.0  \n",
       "2             Novelty Shop  Tailspin Toys      Lorena Cindric      90216.0  \n",
       "3             Novelty Shop  Tailspin Toys  Bhaargav Rambhatla      90205.0  \n",
       "4             Novelty Shop  Tailspin Toys        Daniel Roman      90152.0  "
      ]
     },
     "execution_count": 4,
     "metadata": {},
     "output_type": "execute_result"
    }
   ],
   "source": [
    "# Se cargan los datos. \n",
    "df_customerD = pd.read_csv('dimension_customer.csv', index_col=0, encoding='latin-1')\n",
    "print(df_cityD.shape)\n",
    "df_customerD.head(5)"
   ]
  },
  {
   "cell_type": "code",
   "execution_count": 5,
   "id": "4098c8eb-3209-4641-a0e4-4e1816ae0a72",
   "metadata": {},
   "outputs": [
    {
     "name": "stdout",
     "output_type": "stream",
     "text": [
      "(1461, 8)\n"
     ]
    },
    {
     "data": {
      "text/html": [
       "<div>\n",
       "<style scoped>\n",
       "    .dataframe tbody tr th:only-of-type {\n",
       "        vertical-align: middle;\n",
       "    }\n",
       "\n",
       "    .dataframe tbody tr th {\n",
       "        vertical-align: top;\n",
       "    }\n",
       "\n",
       "    .dataframe thead th {\n",
       "        text-align: right;\n",
       "    }\n",
       "</style>\n",
       "<table border=\"1\" class=\"dataframe\">\n",
       "  <thead>\n",
       "    <tr style=\"text-align: right;\">\n",
       "      <th></th>\n",
       "      <th>Day_Number</th>\n",
       "      <th>Day_val</th>\n",
       "      <th>Month_val</th>\n",
       "      <th>Short_Month</th>\n",
       "      <th>Calendar_Month_Number</th>\n",
       "      <th>Calendar_Year</th>\n",
       "      <th>Fiscal_Month_Number</th>\n",
       "      <th>Fiscal_Year</th>\n",
       "    </tr>\n",
       "    <tr>\n",
       "      <th>Date_key</th>\n",
       "      <th></th>\n",
       "      <th></th>\n",
       "      <th></th>\n",
       "      <th></th>\n",
       "      <th></th>\n",
       "      <th></th>\n",
       "      <th></th>\n",
       "      <th></th>\n",
       "    </tr>\n",
       "  </thead>\n",
       "  <tbody>\n",
       "    <tr>\n",
       "      <th>2013-01-01</th>\n",
       "      <td>1</td>\n",
       "      <td>1</td>\n",
       "      <td>January</td>\n",
       "      <td>Jan</td>\n",
       "      <td>1</td>\n",
       "      <td>2013</td>\n",
       "      <td>3</td>\n",
       "      <td>2013</td>\n",
       "    </tr>\n",
       "    <tr>\n",
       "      <th>2013-01-02</th>\n",
       "      <td>2</td>\n",
       "      <td>2</td>\n",
       "      <td>January</td>\n",
       "      <td>Jan</td>\n",
       "      <td>1</td>\n",
       "      <td>2013</td>\n",
       "      <td>3</td>\n",
       "      <td>2013</td>\n",
       "    </tr>\n",
       "    <tr>\n",
       "      <th>2013-01-03</th>\n",
       "      <td>3</td>\n",
       "      <td>3</td>\n",
       "      <td>January</td>\n",
       "      <td>Jan</td>\n",
       "      <td>1</td>\n",
       "      <td>2013</td>\n",
       "      <td>3</td>\n",
       "      <td>2013</td>\n",
       "    </tr>\n",
       "    <tr>\n",
       "      <th>2013-01-04</th>\n",
       "      <td>4</td>\n",
       "      <td>4</td>\n",
       "      <td>January</td>\n",
       "      <td>Jan</td>\n",
       "      <td>1</td>\n",
       "      <td>2013</td>\n",
       "      <td>3</td>\n",
       "      <td>2013</td>\n",
       "    </tr>\n",
       "    <tr>\n",
       "      <th>2013-01-05</th>\n",
       "      <td>5</td>\n",
       "      <td>5</td>\n",
       "      <td>January</td>\n",
       "      <td>Jan</td>\n",
       "      <td>1</td>\n",
       "      <td>2013</td>\n",
       "      <td>3</td>\n",
       "      <td>2013</td>\n",
       "    </tr>\n",
       "  </tbody>\n",
       "</table>\n",
       "</div>"
      ],
      "text/plain": [
       "            Day_Number  Day_val Month_val Short_Month  Calendar_Month_Number  \\\n",
       "Date_key                                                                       \n",
       "2013-01-01           1        1   January         Jan                      1   \n",
       "2013-01-02           2        2   January         Jan                      1   \n",
       "2013-01-03           3        3   January         Jan                      1   \n",
       "2013-01-04           4        4   January         Jan                      1   \n",
       "2013-01-05           5        5   January         Jan                      1   \n",
       "\n",
       "            Calendar_Year  Fiscal_Month_Number  Fiscal_Year  \n",
       "Date_key                                                     \n",
       "2013-01-01           2013                    3         2013  \n",
       "2013-01-02           2013                    3         2013  \n",
       "2013-01-03           2013                    3         2013  \n",
       "2013-01-04           2013                    3         2013  \n",
       "2013-01-05           2013                    3         2013  "
      ]
     },
     "execution_count": 5,
     "metadata": {},
     "output_type": "execute_result"
    }
   ],
   "source": [
    "# Se cargan los datos. \n",
    "df_dateD = pd.read_csv('dimension_date.csv', index_col=0)\n",
    "print(df_dateD.shape)\n",
    "df_dateD.head(5)"
   ]
  },
  {
   "cell_type": "code",
   "execution_count": 6,
   "id": "9cb7e47c-c479-48ba-8f9b-e9466ed0ac9d",
   "metadata": {},
   "outputs": [
    {
     "name": "stdout",
     "output_type": "stream",
     "text": [
      "(213, 3)\n"
     ]
    },
    {
     "data": {
      "text/html": [
       "<div>\n",
       "<style scoped>\n",
       "    .dataframe tbody tr th:only-of-type {\n",
       "        vertical-align: middle;\n",
       "    }\n",
       "\n",
       "    .dataframe tbody tr th {\n",
       "        vertical-align: top;\n",
       "    }\n",
       "\n",
       "    .dataframe thead th {\n",
       "        text-align: right;\n",
       "    }\n",
       "</style>\n",
       "<table border=\"1\" class=\"dataframe\">\n",
       "  <thead>\n",
       "    <tr style=\"text-align: right;\">\n",
       "      <th></th>\n",
       "      <th>Employee</th>\n",
       "      <th>Preferred_Name</th>\n",
       "      <th>Is_Salesperson</th>\n",
       "    </tr>\n",
       "    <tr>\n",
       "      <th>Employee_Key</th>\n",
       "      <th></th>\n",
       "      <th></th>\n",
       "      <th></th>\n",
       "    </tr>\n",
       "  </thead>\n",
       "  <tbody>\n",
       "    <tr>\n",
       "      <th>0</th>\n",
       "      <td>Unknown</td>\n",
       "      <td>NaN</td>\n",
       "      <td>False</td>\n",
       "    </tr>\n",
       "    <tr>\n",
       "      <th>1</th>\n",
       "      <td>Lily Code</td>\n",
       "      <td>Lily</td>\n",
       "      <td>True</td>\n",
       "    </tr>\n",
       "    <tr>\n",
       "      <th>2</th>\n",
       "      <td>Isabella Rupp</td>\n",
       "      <td>Isabella</td>\n",
       "      <td>False</td>\n",
       "    </tr>\n",
       "    <tr>\n",
       "      <th>3</th>\n",
       "      <td>Ethan Onslow</td>\n",
       "      <td>Ethan</td>\n",
       "      <td>False</td>\n",
       "    </tr>\n",
       "    <tr>\n",
       "      <th>4</th>\n",
       "      <td>Amy Trefl</td>\n",
       "      <td>Amy</td>\n",
       "      <td>True</td>\n",
       "    </tr>\n",
       "  </tbody>\n",
       "</table>\n",
       "</div>"
      ],
      "text/plain": [
       "                   Employee Preferred_Name  Is_Salesperson\n",
       "Employee_Key                                              \n",
       "0                   Unknown            NaN           False\n",
       "1                 Lily Code           Lily            True\n",
       "2             Isabella Rupp       Isabella           False\n",
       "3              Ethan Onslow          Ethan           False\n",
       "4                 Amy Trefl            Amy            True"
      ]
     },
     "execution_count": 6,
     "metadata": {},
     "output_type": "execute_result"
    }
   ],
   "source": [
    "# Se cargan los datos. \n",
    "df_employeeD = pd.read_csv('dimension_employee.csv', index_col=0)\n",
    "print(df_employeeD.shape)\n",
    "df_employeeD.head(5)"
   ]
  },
  {
   "cell_type": "code",
   "execution_count": 7,
   "id": "318848a5-d783-4a20-9113-bf832d8cf10a",
   "metadata": {},
   "outputs": [
    {
     "name": "stdout",
     "output_type": "stream",
     "text": [
      "(672, 13)\n"
     ]
    },
    {
     "data": {
      "text/html": [
       "<div>\n",
       "<style scoped>\n",
       "    .dataframe tbody tr th:only-of-type {\n",
       "        vertical-align: middle;\n",
       "    }\n",
       "\n",
       "    .dataframe tbody tr th {\n",
       "        vertical-align: top;\n",
       "    }\n",
       "\n",
       "    .dataframe thead th {\n",
       "        text-align: right;\n",
       "    }\n",
       "</style>\n",
       "<table border=\"1\" class=\"dataframe\">\n",
       "  <thead>\n",
       "    <tr style=\"text-align: right;\">\n",
       "      <th></th>\n",
       "      <th>Stock_Item</th>\n",
       "      <th>Color</th>\n",
       "      <th>Selling_Package</th>\n",
       "      <th>Buying_Package</th>\n",
       "      <th>Brand</th>\n",
       "      <th>Size_val</th>\n",
       "      <th>Lead_Time_Days</th>\n",
       "      <th>Quantity_Per_Outer</th>\n",
       "      <th>Is_Chiller_Stock</th>\n",
       "      <th>Tax_Rate</th>\n",
       "      <th>Unit_Price</th>\n",
       "      <th>Recommended_Retail_Price</th>\n",
       "      <th>Typical_Weight_Per_Unit</th>\n",
       "    </tr>\n",
       "    <tr>\n",
       "      <th>Stock_Item_Key</th>\n",
       "      <th></th>\n",
       "      <th></th>\n",
       "      <th></th>\n",
       "      <th></th>\n",
       "      <th></th>\n",
       "      <th></th>\n",
       "      <th></th>\n",
       "      <th></th>\n",
       "      <th></th>\n",
       "      <th></th>\n",
       "      <th></th>\n",
       "      <th></th>\n",
       "      <th></th>\n",
       "    </tr>\n",
       "  </thead>\n",
       "  <tbody>\n",
       "    <tr>\n",
       "      <th>0</th>\n",
       "      <td>Unknown</td>\n",
       "      <td>NaN</td>\n",
       "      <td>NaN</td>\n",
       "      <td>NaN</td>\n",
       "      <td>NaN</td>\n",
       "      <td>NaN</td>\n",
       "      <td>0</td>\n",
       "      <td>0</td>\n",
       "      <td>False</td>\n",
       "      <td>,000</td>\n",
       "      <td>,00</td>\n",
       "      <td>,00</td>\n",
       "      <td>,000</td>\n",
       "    </tr>\n",
       "    <tr>\n",
       "      <th>1</th>\n",
       "      <td>Void fill 400 L bag (White) 400L</td>\n",
       "      <td>NaN</td>\n",
       "      <td>Each</td>\n",
       "      <td>Each</td>\n",
       "      <td>NaN</td>\n",
       "      <td>400L</td>\n",
       "      <td>14</td>\n",
       "      <td>10</td>\n",
       "      <td>False</td>\n",
       "      <td>14,000</td>\n",
       "      <td>50,00</td>\n",
       "      <td>74,75</td>\n",
       "      <td>1,000</td>\n",
       "    </tr>\n",
       "    <tr>\n",
       "      <th>2</th>\n",
       "      <td>Void fill 300 L bag (White) 300L</td>\n",
       "      <td>NaN</td>\n",
       "      <td>Each</td>\n",
       "      <td>Each</td>\n",
       "      <td>NaN</td>\n",
       "      <td>300L</td>\n",
       "      <td>14</td>\n",
       "      <td>10</td>\n",
       "      <td>False</td>\n",
       "      <td>14,000</td>\n",
       "      <td>37,50</td>\n",
       "      <td>56,06</td>\n",
       "      <td>,750</td>\n",
       "    </tr>\n",
       "    <tr>\n",
       "      <th>3</th>\n",
       "      <td>Void fill 200 L bag (White) 200L</td>\n",
       "      <td>NaN</td>\n",
       "      <td>Each</td>\n",
       "      <td>Each</td>\n",
       "      <td>NaN</td>\n",
       "      <td>200L</td>\n",
       "      <td>14</td>\n",
       "      <td>10</td>\n",
       "      <td>False</td>\n",
       "      <td>14,000</td>\n",
       "      <td>25,00</td>\n",
       "      <td>37,38</td>\n",
       "      <td>,500</td>\n",
       "    </tr>\n",
       "    <tr>\n",
       "      <th>4</th>\n",
       "      <td>Void fill 100 L bag (White) 100L</td>\n",
       "      <td>NaN</td>\n",
       "      <td>Each</td>\n",
       "      <td>Each</td>\n",
       "      <td>NaN</td>\n",
       "      <td>100L</td>\n",
       "      <td>14</td>\n",
       "      <td>10</td>\n",
       "      <td>False</td>\n",
       "      <td>14,000</td>\n",
       "      <td>12,50</td>\n",
       "      <td>18,69</td>\n",
       "      <td>,250</td>\n",
       "    </tr>\n",
       "  </tbody>\n",
       "</table>\n",
       "</div>"
      ],
      "text/plain": [
       "                                      Stock_Item Color Selling_Package  \\\n",
       "Stock_Item_Key                                                           \n",
       "0                                        Unknown   NaN             NaN   \n",
       "1               Void fill 400 L bag (White) 400L   NaN            Each   \n",
       "2               Void fill 300 L bag (White) 300L   NaN            Each   \n",
       "3               Void fill 200 L bag (White) 200L   NaN            Each   \n",
       "4               Void fill 100 L bag (White) 100L   NaN            Each   \n",
       "\n",
       "               Buying_Package Brand Size_val  Lead_Time_Days  \\\n",
       "Stock_Item_Key                                                 \n",
       "0                         NaN   NaN      NaN               0   \n",
       "1                        Each   NaN     400L              14   \n",
       "2                        Each   NaN     300L              14   \n",
       "3                        Each   NaN     200L              14   \n",
       "4                        Each   NaN     100L              14   \n",
       "\n",
       "                Quantity_Per_Outer  Is_Chiller_Stock Tax_Rate Unit_Price  \\\n",
       "Stock_Item_Key                                                             \n",
       "0                                0             False     ,000        ,00   \n",
       "1                               10             False   14,000      50,00   \n",
       "2                               10             False   14,000      37,50   \n",
       "3                               10             False   14,000      25,00   \n",
       "4                               10             False   14,000      12,50   \n",
       "\n",
       "               Recommended_Retail_Price Typical_Weight_Per_Unit  \n",
       "Stock_Item_Key                                                   \n",
       "0                                   ,00                    ,000  \n",
       "1                                 74,75                   1,000  \n",
       "2                                 56,06                    ,750  \n",
       "3                                 37,38                    ,500  \n",
       "4                                 18,69                    ,250  "
      ]
     },
     "execution_count": 7,
     "metadata": {},
     "output_type": "execute_result"
    }
   ],
   "source": [
    "# Se cargan los datos. \n",
    "df_stockD = pd.read_csv('dimension_stock_item.csv', index_col=0, encoding='latin-1')\n",
    "print(df_stockD.shape)\n",
    "df_stockD.head(5)"
   ]
  },
  {
   "cell_type": "markdown",
   "id": "77092371-ae53-4af7-9364-67729339547c",
   "metadata": {},
   "source": [
    "## 3. Información de datos"
   ]
  },
  {
   "cell_type": "code",
   "execution_count": 8,
   "id": "260af09e-8ea9-472c-b803-941d8d795aae",
   "metadata": {},
   "outputs": [
    {
     "name": "stdout",
     "output_type": "stream",
     "text": [
      "<class 'pandas.core.frame.DataFrame'>\n",
      "Int64Index: 1000 entries, 1 to 1000\n",
      "Data columns (total 14 columns):\n",
      " #   Column               Non-Null Count  Dtype  \n",
      "---  ------               --------------  -----  \n",
      " 0   city_key             1000 non-null   int64  \n",
      " 1   customer_key         1000 non-null   int64  \n",
      " 2   stock_item_key       1000 non-null   int64  \n",
      " 3   order_date_key       1000 non-null   object \n",
      " 4   picked_date_key      1000 non-null   object \n",
      " 5   salesperson_key      1000 non-null   int64  \n",
      " 6   picker_key           1000 non-null   int64  \n",
      " 7   package              1000 non-null   object \n",
      " 8   quantity             1000 non-null   int64  \n",
      " 9   unit_price           1000 non-null   float64\n",
      " 10  tax_rate             1000 non-null   int64  \n",
      " 11  total_excluding_tax  1000 non-null   float64\n",
      " 12  tax_amount           1000 non-null   float64\n",
      " 13  total_including_tax  1000 non-null   float64\n",
      "dtypes: float64(4), int64(7), object(3)\n",
      "memory usage: 117.2+ KB\n"
     ]
    },
    {
     "data": {
      "text/plain": [
       "(1000, 14)"
      ]
     },
     "execution_count": 8,
     "metadata": {},
     "output_type": "execute_result"
    }
   ],
   "source": [
    "df_factD.info()\n",
    "df_factD.shape"
   ]
  },
  {
   "cell_type": "code",
   "execution_count": 9,
   "id": "28a11543-1847-41c4-b25b-d4a265f213cb",
   "metadata": {},
   "outputs": [
    {
     "name": "stdout",
     "output_type": "stream",
     "text": [
      "<class 'pandas.core.frame.DataFrame'>\n",
      "Index: 98 entries, Row0 to Row97\n",
      "Data columns (total 9 columns):\n",
      " #   Column                      Non-Null Count  Dtype \n",
      "---  ------                      --------------  ----- \n",
      " 0   City_Key                    98 non-null     int64 \n",
      " 1   City                        98 non-null     object\n",
      " 2   State_Province              97 non-null     object\n",
      " 3   Country                     97 non-null     object\n",
      " 4   Continent                   97 non-null     object\n",
      " 5   Sales_Territory             97 non-null     object\n",
      " 6   Region                      97 non-null     object\n",
      " 7   Subregion                   97 non-null     object\n",
      " 8   Latest_Recorded_Population  98 non-null     int64 \n",
      "dtypes: int64(2), object(7)\n",
      "memory usage: 7.7+ KB\n"
     ]
    },
    {
     "data": {
      "text/plain": [
       "(98, 9)"
      ]
     },
     "execution_count": 9,
     "metadata": {},
     "output_type": "execute_result"
    }
   ],
   "source": [
    "df_cityD.info()\n",
    "df_cityD.shape"
   ]
  },
  {
   "cell_type": "code",
   "execution_count": 10,
   "id": "48a0baf1-4c42-4e63-b5e1-8643ac5072f1",
   "metadata": {},
   "outputs": [
    {
     "name": "stdout",
     "output_type": "stream",
     "text": [
      "<class 'pandas.core.frame.DataFrame'>\n",
      "Int64Index: 403 entries, 0 to 402\n",
      "Data columns (total 6 columns):\n",
      " #   Column            Non-Null Count  Dtype  \n",
      "---  ------            --------------  -----  \n",
      " 0   Customer          403 non-null    object \n",
      " 1   Bill_To_Customer  402 non-null    object \n",
      " 2   Category          402 non-null    object \n",
      " 3   Buying_Group      402 non-null    object \n",
      " 4   Primary_Contact   402 non-null    object \n",
      " 5   Postal_Code       402 non-null    float64\n",
      "dtypes: float64(1), object(5)\n",
      "memory usage: 22.0+ KB\n"
     ]
    },
    {
     "data": {
      "text/plain": [
       "(403, 6)"
      ]
     },
     "execution_count": 10,
     "metadata": {},
     "output_type": "execute_result"
    }
   ],
   "source": [
    "df_customerD.info()\n",
    "df_customerD.shape"
   ]
  },
  {
   "cell_type": "code",
   "execution_count": 11,
   "id": "dfc38294-70de-40b1-a480-8a6045bb8562",
   "metadata": {},
   "outputs": [
    {
     "name": "stdout",
     "output_type": "stream",
     "text": [
      "<class 'pandas.core.frame.DataFrame'>\n",
      "Index: 1461 entries, 2013-01-01 to 2016-12-31\n",
      "Data columns (total 8 columns):\n",
      " #   Column                 Non-Null Count  Dtype \n",
      "---  ------                 --------------  ----- \n",
      " 0   Day_Number             1461 non-null   int64 \n",
      " 1   Day_val                1461 non-null   int64 \n",
      " 2   Month_val              1461 non-null   object\n",
      " 3   Short_Month            1461 non-null   object\n",
      " 4   Calendar_Month_Number  1461 non-null   int64 \n",
      " 5   Calendar_Year          1461 non-null   int64 \n",
      " 6   Fiscal_Month_Number    1461 non-null   int64 \n",
      " 7   Fiscal_Year            1461 non-null   int64 \n",
      "dtypes: int64(6), object(2)\n",
      "memory usage: 102.7+ KB\n"
     ]
    },
    {
     "data": {
      "text/plain": [
       "(1461, 8)"
      ]
     },
     "execution_count": 11,
     "metadata": {},
     "output_type": "execute_result"
    }
   ],
   "source": [
    "df_dateD.info()\n",
    "df_dateD.shape"
   ]
  },
  {
   "cell_type": "code",
   "execution_count": 12,
   "id": "20fce678-3b7a-4496-8e04-5efc920c5864",
   "metadata": {},
   "outputs": [
    {
     "name": "stdout",
     "output_type": "stream",
     "text": [
      "<class 'pandas.core.frame.DataFrame'>\n",
      "Int64Index: 213 entries, 0 to 212\n",
      "Data columns (total 3 columns):\n",
      " #   Column          Non-Null Count  Dtype \n",
      "---  ------          --------------  ----- \n",
      " 0   Employee        213 non-null    object\n",
      " 1   Preferred_Name  212 non-null    object\n",
      " 2   Is_Salesperson  213 non-null    bool  \n",
      "dtypes: bool(1), object(2)\n",
      "memory usage: 5.2+ KB\n"
     ]
    },
    {
     "data": {
      "text/plain": [
       "(213, 3)"
      ]
     },
     "execution_count": 12,
     "metadata": {},
     "output_type": "execute_result"
    }
   ],
   "source": [
    "df_employeeD.info()\n",
    "df_employeeD.shape"
   ]
  },
  {
   "cell_type": "code",
   "execution_count": 13,
   "id": "dd63c2a3-222a-4573-84d4-1437c514c7b2",
   "metadata": {},
   "outputs": [
    {
     "name": "stdout",
     "output_type": "stream",
     "text": [
      "<class 'pandas.core.frame.DataFrame'>\n",
      "Int64Index: 672 entries, 0 to 671\n",
      "Data columns (total 13 columns):\n",
      " #   Column                    Non-Null Count  Dtype \n",
      "---  ------                    --------------  ----- \n",
      " 0   Stock_Item                672 non-null    object\n",
      " 1   Color                     360 non-null    object\n",
      " 2   Selling_Package           671 non-null    object\n",
      " 3   Buying_Package            671 non-null    object\n",
      " 4   Brand                     67 non-null     object\n",
      " 5   Size_val                  468 non-null    object\n",
      " 6   Lead_Time_Days            672 non-null    int64 \n",
      " 7   Quantity_Per_Outer        672 non-null    int64 \n",
      " 8   Is_Chiller_Stock          672 non-null    bool  \n",
      " 9   Tax_Rate                  672 non-null    object\n",
      " 10  Unit_Price                672 non-null    object\n",
      " 11  Recommended_Retail_Price  672 non-null    object\n",
      " 12  Typical_Weight_Per_Unit   672 non-null    object\n",
      "dtypes: bool(1), int64(2), object(10)\n",
      "memory usage: 68.9+ KB\n"
     ]
    },
    {
     "data": {
      "text/plain": [
       "(672, 13)"
      ]
     },
     "execution_count": 13,
     "metadata": {},
     "output_type": "execute_result"
    }
   ],
   "source": [
    "df_stockD.info()\n",
    "df_stockD.shape"
   ]
  },
  {
   "cell_type": "code",
   "execution_count": 14,
   "id": "9540a161-ef4f-458f-b578-bbe2429fd701",
   "metadata": {},
   "outputs": [],
   "source": [
    "#Como se puede ver, date y fact order no tiene nulos, los demas tienen un nulo que podria ser despreciado y borrado, excepto stock que tiene la columna brand con muchisimos nulos\n",
    "df_city=df_cityD.dropna()\n",
    "df_customer=df_customerD.dropna()\n",
    "df_employee=df_employeeD.dropna()\n",
    "#Para stock primero revisamos a mayor profundidad los datos, en especial brand"
   ]
  },
  {
   "cell_type": "code",
   "execution_count": 15,
   "id": "5e3fe2df-f591-4b59-9350-db5795609015",
   "metadata": {},
   "outputs": [
    {
     "data": {
      "text/plain": [
       "Stock_Item_Key\n",
       "0      NaN\n",
       "1      NaN\n",
       "2      NaN\n",
       "3      NaN\n",
       "4      NaN\n",
       "      ... \n",
       "667    NaN\n",
       "668    NaN\n",
       "669    NaN\n",
       "670    NaN\n",
       "671    NaN\n",
       "Name: Brand, Length: 672, dtype: object"
      ]
     },
     "execution_count": 15,
     "metadata": {},
     "output_type": "execute_result"
    }
   ],
   "source": [
    "df_stockD.Brand"
   ]
  },
  {
   "cell_type": "code",
   "execution_count": 16,
   "id": "f22deba6-29e3-493d-82c8-b4f4a58565f9",
   "metadata": {},
   "outputs": [
    {
     "data": {
      "text/plain": [
       "Stock_Item_Key\n",
       "145    Northwind\n",
       "146    Northwind\n",
       "147    Northwind\n",
       "149    Northwind\n",
       "151    Northwind\n",
       "152    Northwind\n",
       "153    Northwind\n",
       "154    Northwind\n",
       "155    Northwind\n",
       "156    Northwind\n",
       "158    Northwind\n",
       "160    Northwind\n",
       "161    Northwind\n",
       "162    Northwind\n",
       "228    Northwind\n",
       "229    Northwind\n",
       "230    Northwind\n",
       "232    Northwind\n",
       "234    Northwind\n",
       "235    Northwind\n",
       "236    Northwind\n",
       "391    Northwind\n",
       "393    Northwind\n",
       "395    Northwind\n",
       "396    Northwind\n",
       "397    Northwind\n",
       "453    Northwind\n",
       "454    Northwind\n",
       "455    Northwind\n",
       "456    Northwind\n",
       "457    Northwind\n",
       "459    Northwind\n",
       "461    Northwind\n",
       "462    Northwind\n",
       "463    Northwind\n",
       "464    Northwind\n",
       "465    Northwind\n",
       "466    Northwind\n",
       "467    Northwind\n",
       "468    Northwind\n",
       "469    Northwind\n",
       "471    Northwind\n",
       "473    Northwind\n",
       "474    Northwind\n",
       "475    Northwind\n",
       "476    Northwind\n",
       "488    Northwind\n",
       "489    Northwind\n",
       "490    Northwind\n",
       "492    Northwind\n",
       "494    Northwind\n",
       "495    Northwind\n",
       "496    Northwind\n",
       "Name: Brand, dtype: object"
      ]
     },
     "execution_count": 16,
     "metadata": {},
     "output_type": "execute_result"
    }
   ],
   "source": [
    "#Revisamos los datos no nulos en una coppia\n",
    "df_stock=df_stockD.dropna()\n",
    "df_stock.Brand"
   ]
  },
  {
   "cell_type": "code",
   "execution_count": 17,
   "id": "25da43c0-2975-428d-b208-390bc41dde94",
   "metadata": {},
   "outputs": [],
   "source": [
    "#Llenaremos los demas datos de Brand con \"unknown\" para que pueda ser usada\n",
    "\n",
    "#Se arreglan los datos errones de Clase\n",
    "def quitarErroneos(row):\n",
    "    if row != \"Northwind\" :\n",
    "      return \"unknown\"\n",
    "    return row\n",
    "    \n",
    "df_stockD[\"Brand\"] = df_stockD[\"Brand\"].apply(quitarErroneos)\n",
    "\n",
    "#Ahora todos los datos gozan de completitud, dado el caso no tiene sentido revisar datos outliers "
   ]
  },
  {
   "cell_type": "code",
   "execution_count": 18,
   "id": "5a80abd4-ef0d-4c5f-be78-1fb92cf0888d",
   "metadata": {},
   "outputs": [
    {
     "data": {
      "text/plain": [
       "1     48\n",
       "2     48\n",
       "28    48\n",
       "27    48\n",
       "26    48\n",
       "25    48\n",
       "24    48\n",
       "23    48\n",
       "22    48\n",
       "21    48\n",
       "20    48\n",
       "19    48\n",
       "18    48\n",
       "17    48\n",
       "16    48\n",
       "15    48\n",
       "14    48\n",
       "13    48\n",
       "12    48\n",
       "11    48\n",
       "10    48\n",
       "9     48\n",
       "8     48\n",
       "7     48\n",
       "6     48\n",
       "5     48\n",
       "4     48\n",
       "3     48\n",
       "29    45\n",
       "30    44\n",
       "31    28\n",
       "Name: Day_val, dtype: int64"
      ]
     },
     "execution_count": 18,
     "metadata": {},
     "output_type": "execute_result"
    }
   ],
   "source": [
    "pd.value_counts(df_dateD['Day_val'])\n",
    "#Como se ve todos los datos son de dias con sentido"
   ]
  },
  {
   "cell_type": "code",
   "execution_count": 19,
   "id": "ff44d7d9-854a-4656-8a85-7f1b6e8c01fd",
   "metadata": {},
   "outputs": [
    {
     "data": {
      "text/plain": [
       "1     124\n",
       "3     124\n",
       "5     124\n",
       "7     124\n",
       "8     124\n",
       "10    124\n",
       "12    124\n",
       "4     120\n",
       "6     120\n",
       "9     120\n",
       "11    120\n",
       "2     113\n",
       "Name: Calendar_Month_Number, dtype: int64"
      ]
     },
     "execution_count": 19,
     "metadata": {},
     "output_type": "execute_result"
    }
   ],
   "source": [
    "pd.value_counts(df_dateD['Calendar_Month_Number'])\n",
    "#Como se ve todos los datos son de meses con sentido"
   ]
  },
  {
   "cell_type": "code",
   "execution_count": 20,
   "id": "2b51c913-1810-42f0-9288-9eddb56816fd",
   "metadata": {},
   "outputs": [
    {
     "data": {
      "text/plain": [
       "2016    366\n",
       "2013    365\n",
       "2014    365\n",
       "2015    365\n",
       "Name: Calendar_Year, dtype: int64"
      ]
     },
     "execution_count": 20,
     "metadata": {},
     "output_type": "execute_result"
    }
   ],
   "source": [
    "pd.value_counts(df_dateD['Calendar_Year'])\n",
    "#Como se ve todos los datos son de años con sentido"
   ]
  },
  {
   "cell_type": "code",
   "execution_count": 21,
   "id": "888f426b-3148-46c6-b971-807e2ed031b6",
   "metadata": {},
   "outputs": [
    {
     "data": {
      "text/plain": [
       "2016    366\n",
       "2014    365\n",
       "2015    365\n",
       "2013    304\n",
       "2017     61\n",
       "Name: Fiscal_Year, dtype: int64"
      ]
     },
     "execution_count": 21,
     "metadata": {},
     "output_type": "execute_result"
    }
   ],
   "source": [
    "pd.value_counts(df_dateD['Fiscal_Year'])\n",
    "#Como se ve todos los datos son de años con sentido, se finaliza la revisión ya que los demas datos numericos dependen del negocio"
   ]
  },
  {
   "cell_type": "code",
   "execution_count": 22,
   "id": "c9b12330-a758-4237-9f63-ab9ad9135fc6",
   "metadata": {},
   "outputs": [
    {
     "data": {
      "text/plain": [
       "14    53\n",
       "Name: Lead_Time_Days, dtype: int64"
      ]
     },
     "execution_count": 22,
     "metadata": {},
     "output_type": "execute_result"
    }
   ],
   "source": [
    "pd.value_counts(df_stock['Lead_Time_Days'])"
   ]
  },
  {
   "cell_type": "code",
   "execution_count": 23,
   "id": "b74cf03c-e7c7-4948-8e0a-63272c2cab9a",
   "metadata": {},
   "outputs": [
    {
     "data": {
      "text/plain": [
       "1    53\n",
       "Name: Quantity_Per_Outer, dtype: int64"
      ]
     },
     "execution_count": 23,
     "metadata": {},
     "output_type": "execute_result"
    }
   ],
   "source": [
    "pd.value_counts(df_stock['Quantity_Per_Outer'])"
   ]
  },
  {
   "cell_type": "code",
   "execution_count": 24,
   "id": "262a9e35-f803-4e94-a92b-460a27238fc8",
   "metadata": {},
   "outputs": [
    {
     "data": {
      "text/plain": [
       "14,000    53\n",
       "Name: Tax_Rate, dtype: int64"
      ]
     },
     "execution_count": 24,
     "metadata": {},
     "output_type": "execute_result"
    }
   ],
   "source": [
    "pd.value_counts(df_stock['Tax_Rate'])"
   ]
  },
  {
   "cell_type": "code",
   "execution_count": 25,
   "id": "026b4277-0da6-472f-811f-36836eccaedc",
   "metadata": {},
   "outputs": [
    {
     "data": {
      "text/plain": [
       "25,00     16\n",
       "230,00    12\n",
       "30,00     10\n",
       "285,00     8\n",
       "45,00      4\n",
       "345,00     3\n",
       "Name: Unit_Price, dtype: int64"
      ]
     },
     "execution_count": 25,
     "metadata": {},
     "output_type": "execute_result"
    }
   ],
   "source": [
    "pd.value_counts(df_stock['Unit_Price'])"
   ]
  },
  {
   "cell_type": "code",
   "execution_count": 26,
   "id": "a298e431-e981-4dee-b81d-afe480ad55e8",
   "metadata": {},
   "outputs": [
    {
     "data": {
      "text/plain": [
       "37,38     16\n",
       "343,85    12\n",
       "44,85     10\n",
       "426,08     8\n",
       "67,28      4\n",
       "515,78     3\n",
       "Name: Recommended_Retail_Price, dtype: int64"
      ]
     },
     "execution_count": 26,
     "metadata": {},
     "output_type": "execute_result"
    }
   ],
   "source": [
    "pd.value_counts(df_stock['Recommended_Retail_Price'])"
   ]
  },
  {
   "cell_type": "code",
   "execution_count": 27,
   "id": "a3c30ab2-711d-4499-b828-db3c3425da8a",
   "metadata": {},
   "outputs": [
    {
     "data": {
      "text/plain": [
       "1,500     16\n",
       "15,000    12\n",
       "1,700     10\n",
       "18,000     8\n",
       "1,800      4\n",
       "21,000     3\n",
       "Name: Typical_Weight_Per_Unit, dtype: int64"
      ]
     },
     "execution_count": 27,
     "metadata": {},
     "output_type": "execute_result"
    }
   ],
   "source": [
    "pd.value_counts(df_stock['Typical_Weight_Per_Unit'])\n",
    "#Ningun dato se ve fuera de los datos logicos del negocio asi que no se hace nada mas. Ahora se revisa fact order"
   ]
  },
  {
   "cell_type": "code",
   "execution_count": 30,
   "id": "8001dce9-546d-4099-b0c4-18796c371ee8",
   "metadata": {},
   "outputs": [
    {
     "data": {
      "text/plain": [
       "2016-05-28    5\n",
       "2013-07-27    5\n",
       "2015-06-06    4\n",
       "2014-02-21    4\n",
       "2015-12-19    4\n",
       "             ..\n",
       "2016-11-14    1\n",
       "2014-03-31    1\n",
       "2014-02-19    1\n",
       "2015-05-27    1\n",
       "2015-07-11    1\n",
       "Name: order_date_key, Length: 724, dtype: int64"
      ]
     },
     "execution_count": 30,
     "metadata": {},
     "output_type": "execute_result"
    }
   ],
   "source": [
    "pd.value_counts(df_factD['order_date_key'])\n",
    "#El formato de fecha es constante y no tiene diferentes representaciones"
   ]
  },
  {
   "cell_type": "code",
   "execution_count": 31,
   "id": "84f90e06-9247-474b-b637-516e32e4cd1a",
   "metadata": {},
   "outputs": [
    {
     "data": {
      "text/plain": [
       "2016-02-13    4\n",
       "2015-01-05    4\n",
       "2013-08-16    4\n",
       "2013-03-17    3\n",
       "2015-02-17    3\n",
       "             ..\n",
       "2014-07-06    1\n",
       "2015-04-03    1\n",
       "2013-08-28    1\n",
       "2016-04-22    1\n",
       "2016-11-04    1\n",
       "Name: picked_date_key, Length: 720, dtype: int64"
      ]
     },
     "execution_count": 31,
     "metadata": {},
     "output_type": "execute_result"
    }
   ],
   "source": [
    "pd.value_counts(df_factD['picked_date_key'])\n",
    "#El formato de fecha es constante y no tiene diferentes representaciones"
   ]
  },
  {
   "cell_type": "code",
   "execution_count": 32,
   "id": "3ed97392-2802-479d-9a27-5fa6949446a7",
   "metadata": {},
   "outputs": [
    {
     "data": {
      "text/plain": [
       "S     512\n",
       "M     235\n",
       "L     129\n",
       "X      65\n",
       "XL     59\n",
       "Name: package, dtype: int64"
      ]
     },
     "execution_count": 32,
     "metadata": {},
     "output_type": "execute_result"
    }
   ],
   "source": [
    "pd.value_counts(df_factD['package'])\n",
    "#No hay valores outliers, los demas datos son numericos con muchas posibilidades asi que aunque se revisaron, no se incluye\n",
    "#la revision dado que son demasiadas. Pero se concluye que con esto, todos los datos ya estan limpios."
   ]
  }
 ],
 "metadata": {
  "kernelspec": {
   "display_name": "Python 3 (ipykernel)",
   "language": "python",
   "name": "python3"
  },
  "language_info": {
   "codemirror_mode": {
    "name": "ipython",
    "version": 3
   },
   "file_extension": ".py",
   "mimetype": "text/x-python",
   "name": "python",
   "nbconvert_exporter": "python",
   "pygments_lexer": "ipython3",
   "version": "3.9.12"
  }
 },
 "nbformat": 4,
 "nbformat_minor": 5
}
